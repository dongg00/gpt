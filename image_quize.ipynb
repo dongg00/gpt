{
 "cells": [
  {
   "cell_type": "code",
   "execution_count": 1,
   "id": "497499fe",
   "metadata": {},
   "outputs": [],
   "source": [
    "from glob import glob\n",
    "from openai import OpenAI\n",
    "from dotenv import load_dotenv\n",
    "import os\n",
    "import base64"
   ]
  },
  {
   "cell_type": "code",
   "execution_count": 2,
   "id": "f77b2ba2",
   "metadata": {},
   "outputs": [],
   "source": [
    "load_dotenv()\n",
    "api_key=os.getenv(\"OPENAI_API_KEY\")\n",
    "client=OpenAI(api_key=api_key)\n",
    "\n",
    "def encode_image(image_path):\n",
    "    with open(image_path, \"rb\") as image_file:\n",
    "        return base64.b64encode(image_file.read()).decode(\"utf-8\")"
   ]
  },
  {
   "cell_type": "code",
   "execution_count": 8,
   "id": "d7836295",
   "metadata": {},
   "outputs": [],
   "source": [
    "def image_quiz(image_path):\n",
    "    base64_image=encode_image(image_path)\n",
    "    quize_prompt=\"\"\"\n",
    "    제공한 이미지를 바탕으로, 다음과 같은 양식으로 퀴즈를 만들어 주세요.\n",
    "    정답은 1~4 중 하나만 해당하도록 출제하세요.\n",
    "    아래는 예시입니다.\n",
    "    ---예시---\n",
    "\n",
    "    Q: 다음 이미지에 대한 설명 중 옳지 않은 것은 무엇입니까?\n",
    "    1. 베이커리에서 사람들이 빵을 사는 모습이 담겨 있습니다.\n",
    "    2. 맨 앞에 서 있는 사람은 빨간색 셔츠를 입었습니다.\n",
    "    3. 기차를 타기 위해 줄을 서 있는 사람들이 있습니다.\n",
    "    4. 점원은 노란색 티셔츠를 입었습니다.\n",
    "\n",
    "    정답: 4. 점원은 노란색 티셔츠가 아닌 파란색 티셔츠를 입었습니다.\n",
    "    (주의: 정답은 1~4 중 하나만 선택하도록 출제하세요.)\n",
    "    ====\n",
    "    \"\"\"\n",
    "\n",
    "    messages=[\n",
    "        {\n",
    "            \"role\": \"user\",\n",
    "            \"content\":[\n",
    "                {\n",
    "                    \"type\": \"text\",\n",
    "                    \"text\": quize_prompt\n",
    "                },\n",
    "                {\n",
    "                    \"type\": \"image_url\",\n",
    "                    \"image_url\":{\n",
    "                        \"url\":f\"data:image/jpeg;base64,{base64_image}\",\n",
    "                    },\n",
    "                },\n",
    "            ],\n",
    "        }\n",
    "    ]\n",
    "    response=client.chat.completions.create(\n",
    "        model=\"gpt-4o\",\n",
    "        messages=messages\n",
    ")\n",
    "    return response.choices[0].message.content"
   ]
  },
  {
   "cell_type": "code",
   "execution_count": 9,
   "id": "ee04b506",
   "metadata": {},
   "outputs": [
    {
     "name": "stdout",
     "output_type": "stream",
     "text": [
      "Q: 다음 이미지에 대한 설명 중 옳지 않은 것은 무엇입니까?\n",
      "1. 많은 사람들이 컴퓨터 앞에 앉아 있습니다.\n",
      "2. 천장에는 여러 개의 조명이 설치되어 있습니다.\n",
      "3. 'DIVE 2024 IN BUSAN'이라는 문구가 보입니다.\n",
      "4. 모든 사람들이 파란색 티셔츠를 입고 있습니다.\n",
      "\n",
      "정답: 4. 모든 사람들이 파란색 티셔츠를 입고 있지 않습니다. 다양한 색상의 옷을 입고 있습니다.\n"
     ]
    }
   ],
   "source": [
    "q = image_quiz(\"C:/llm01/gpt/busan_dive.jpg\")\n",
    "print(q)"
   ]
  },
  {
   "cell_type": "code",
   "execution_count": 10,
   "id": "04f9a24d",
   "metadata": {},
   "outputs": [],
   "source": [
    "txt=''\n",
    "no=1\n",
    "for g in glob('./llm01/gpt/images/*.jpg'):\n",
    "    try:\n",
    "        q=image_quiz(g)\n",
    "    except Exception as e:\n",
    "        print(e)\n",
    "        continue\n",
    "\n",
    "    divider = f'## 문제 {no}\\n\\n'\n",
    "    print(divider)\n",
    "\n",
    "    txt += divider\n",
    "    filename=os.path.basename(g)\n",
    "    txt += f'![image]({filename})\\n\\n'\n",
    "\n",
    "    print(q)\n",
    "    txt += q + '\\n\\n----------------\\n\\n'\n",
    "\n",
    "    with open('./llm01/gpt/images/image_quiz.md','w',encoding='utf-8') as f:\n",
    "        f.write(txt)\n",
    "\n",
    "    no+=1"
   ]
  },
  {
   "cell_type": "code",
   "execution_count": null,
   "id": "00f51d44",
   "metadata": {},
   "outputs": [],
   "source": []
  }
 ],
 "metadata": {
  "kernelspec": {
   "display_name": "Python 3",
   "language": "python",
   "name": "python3"
  },
  "language_info": {
   "codemirror_mode": {
    "name": "ipython",
    "version": 3
   },
   "file_extension": ".py",
   "mimetype": "text/x-python",
   "name": "python",
   "nbconvert_exporter": "python",
   "pygments_lexer": "ipython3",
   "version": "3.13.3"
  }
 },
 "nbformat": 4,
 "nbformat_minor": 5
}
