{
 "cells": [
  {
   "cell_type": "code",
   "execution_count": 1,
   "id": "f24761d3",
   "metadata": {},
   "outputs": [],
   "source": [
    "from gpt_functions import get_current_time, tools\n",
    "from openai import OpenAI\n",
    "from dotenv import load_dotenv\n",
    "import os"
   ]
  },
  {
   "cell_type": "code",
   "execution_count": 2,
   "id": "15ec4c84",
   "metadata": {},
   "outputs": [],
   "source": [
    "load_dotenv()\n",
    "api_key=os.getenv(\"OPENAI_API_KEY\")\n",
    "\n",
    "client=OpenAI(api_key=api_key)"
   ]
  },
  {
   "cell_type": "code",
   "execution_count": 3,
   "id": "94c158f6",
   "metadata": {},
   "outputs": [],
   "source": [
    "def get_ai_response(messages, tools=None):\n",
    "    response=client.chat.completions.create(\n",
    "        model=\"gpt-4o\",\n",
    "        messages=messages,\n",
    "        tools=tools,\n",
    "    )\n",
    "    return response"
   ]
  },
  {
   "cell_type": "code",
   "execution_count": null,
   "id": "da121b1b",
   "metadata": {},
   "outputs": [
    {
     "name": "stdout",
     "output_type": "stream",
     "text": [
      "ChatCompletionMessage(content='돈이 사라졌다니 안타까운 일이네요. 취할 수 있는 몇 가지 조치를 고려해보시면 좋을 것 같아요:\\n\\n1. 최근에 누가 돈을 만지거나 접근할 수 있었는지 생각해보세요.\\n2. 은행 계좌라면 최근 거래 내역을 확인해보세요.\\n3. 분실이 아닌 도난이라고 판단되면, 경찰에 신고하는 것도 고려해보세요.\\n4. 지갑이나 가방 주변을 철저하게 검색해보세요. 종종 사소한 곳에서 발견되기도 합니다.\\n\\n더 궁금한 점이 있거나 도움이 필요하면 말씀해 주세요!', refusal=None, role='assistant', annotations=[], audio=None, function_call=None, tool_calls=None)\n",
      "AI\t: 돈이 사라졌다니 안타까운 일이네요. 취할 수 있는 몇 가지 조치를 고려해보시면 좋을 것 같아요:\n",
      "\n",
      "1. 최근에 누가 돈을 만지거나 접근할 수 있었는지 생각해보세요.\n",
      "2. 은행 계좌라면 최근 거래 내역을 확인해보세요.\n",
      "3. 분실이 아닌 도난이라고 판단되면, 경찰에 신고하는 것도 고려해보세요.\n",
      "4. 지갑이나 가방 주변을 철저하게 검색해보세요. 종종 사소한 곳에서 발견되기도 합니다.\n",
      "\n",
      "더 궁금한 점이 있거나 도움이 필요하면 말씀해 주세요!\n",
      "ChatCompletionMessage(content='천만에요! 언제든지 도움이 필요하시면 말씀해 주세요. 좋은 하루 보내세요!', refusal=None, role='assistant', annotations=[], audio=None, function_call=None, tool_calls=None)\n",
      "AI\t: 천만에요! 언제든지 도움이 필요하시면 말씀해 주세요. 좋은 하루 보내세요!\n",
      "ChatCompletionMessage(content='어떤 도움이 필요하신가요? 말씀해 주시면 최선을 다해 도와드리겠습니다.', refusal=None, role='assistant', annotations=[], audio=None, function_call=None, tool_calls=None)\n",
      "AI\t: 어떤 도움이 필요하신가요? 말씀해 주시면 최선을 다해 도와드리겠습니다.\n",
      "ChatCompletionMessage(content='무엇을 도와드릴 수 있을지 말씀해 주세요. 언제든 질문이나 요청이 있으시면 자유롭게 말씀해 주세요!', refusal=None, role='assistant', annotations=[], audio=None, function_call=None, tool_calls=None)\n",
      "AI\t: 무엇을 도와드릴 수 있을지 말씀해 주세요. 언제든 질문이나 요청이 있으시면 자유롭게 말씀해 주세요!\n"
     ]
    }
   ],
   "source": [
    "messages=[\n",
    "    {\n",
    "        \"role\":\"system\",\n",
    "        \"content\":\"너는 사용자를 도와주는 건달이야.\"\n",
    "    }\n",
    "]\n",
    "while True:\n",
    "    user_input = input(\"사용자\\t:\")\n",
    "    if user_input == \"exit\":\n",
    "        break\n",
    "    \n",
    "    messages.append(\n",
    "        {\n",
    "            \"role\":\"user\",\n",
    "            \"content\": user_input\n",
    "        }\n",
    "    )\n",
    "    \n",
    "    ai_response = get_ai_response(messages, tools = tools)\n",
    "    ai_message = ai_response.choices[0].message\n",
    "    print(ai_message)\n",
    "    \n",
    "    tool_calls = ai_message.tool_calls\n",
    "    if tool_calls:\n",
    "        tool_name=tool_calls[0].function.name\n",
    "        tool_call_id=tool_calls[0].id\n",
    "        \n",
    "        if tool_name == \"gpt_current_time\":\n",
    "            messages.append({\n",
    "                \"role\":\"function\",\n",
    "                \"tool_call_id\":tool_call_id,\n",
    "                \"name\":tool_name,\n",
    "                \"content\":get_current_time(),\n",
    "            })\n",
    "            \n",
    "        ai_response = get_ai_response(messages, tools=tools)\n",
    "        ai_message = ai_response.choices[0].message\n",
    "        \n",
    "    messages.append(ai_message)\n",
    "    print(\"AI\\t: \"+ ai_message.content)\n",
    "        "
   ]
  },
  {
   "cell_type": "code",
   "execution_count": 4,
   "id": "23a227da",
   "metadata": {},
   "outputs": [],
   "source": [
    "from datetime import datetime\n",
    "import pytz"
   ]
  },
  {
   "cell_type": "code",
   "execution_count": 5,
   "id": "41ce8105",
   "metadata": {},
   "outputs": [
    {
     "name": "stdout",
     "output_type": "stream",
     "text": [
      "2025-06-16 02:22:08 America/New_York\n"
     ]
    }
   ],
   "source": [
    "def get_current_time(timezone: str = 'Asia/Seoul'):\n",
    "    tz=pytz.timezone(timezone)\n",
    "    now=datetime.now(tz).strftime(\"%Y-%m-%d %H:%M:%S\")\n",
    "    now_timezone=f'{now} {timezone}'\n",
    "    print(now_timezone)\n",
    "    return now_timezone\n",
    "\n",
    "tools=[\n",
    "    {\n",
    "        \"type\":\"function\",\n",
    "        \"function\":{\n",
    "            \"name\":\"get_current_time\",\n",
    "            \"description\":\"해당 타임존의 날짜와 시간을 반환합니다.\",\n",
    "            \"parameters\":{\n",
    "                \"type\":\"object\",\n",
    "                \"properties\":{\n",
    "                    'timezone':{ \n",
    "                        'type':'string',\n",
    "                        'description': '현재 날짜와 시간을 반환할 타임존을 입력하세요.'\n",
    "                    },\n",
    "                },\n",
    "                \"required\":['timezone'],\n",
    "            },\n",
    "        }\n",
    "    },\n",
    "]\n",
    "if __name__ == '__main__':\n",
    "    get_current_time('America/New_York')"
   ]
  },
  {
   "cell_type": "code",
   "execution_count": 8,
   "id": "be18e8b2",
   "metadata": {},
   "outputs": [
    {
     "name": "stdout",
     "output_type": "stream",
     "text": [
      "ChatCompletionMessage(content=None, refusal=None, role='assistant', annotations=[], audio=None, function_call=None, tool_calls=[ChatCompletionMessageToolCall(id='call_ho1Bd7UcRskHadUHZksJkPxi', function=Function(arguments='{\"timezone\": \"Asia/Tokyo\"}', name='get_current_time'), type='function'), ChatCompletionMessageToolCall(id='call_QKR8GCbza5TUpCPORjoqTy3B', function=Function(arguments='{\"timezone\": \"Asia/Seoul\"}', name='get_current_time'), type='function'), ChatCompletionMessageToolCall(id='call_N4VVlQYTS9QIxg4NePCzLCrb', function=Function(arguments='{\"timezone\": \"America/New_York\"}', name='get_current_time'), type='function')])\n",
      "2025-06-16 15:23:52 Asia/Tokyo\n",
      "2025-06-16 15:23:52 Asia/Seoul\n",
      "2025-06-16 02:23:52 America/New_York\n",
      "AI\t: 현재 도쿄와 서울의 시간은 2025년 6월 16일 오후 3시 23분이며, 뉴욕의 시간은 같은 날 오전 2시 23분입니다.\n",
      "ChatCompletionMessage(content='안녕히 가세요! 또 필요하실 때 언제든지 말씀해 주세요.', refusal=None, role='assistant', annotations=[], audio=None, function_call=None, tool_calls=None)\n",
      "AI\t: 안녕히 가세요! 또 필요하실 때 언제든지 말씀해 주세요.\n"
     ]
    }
   ],
   "source": [
    "from gpt_functions import get_current_time, tools \n",
    "from openai import OpenAI\n",
    "from dotenv import load_dotenv\n",
    "import os\n",
    "import json\n",
    "\n",
    "load_dotenv()\n",
    "api_key = os.getenv(\"OPENAI_API_KEY\")  # 환경 변수에서 API 키 가져오기\n",
    "\n",
    "client = OpenAI(api_key=api_key)  # 오픈AI 클라이언트의 인스턴스 생성\n",
    "\n",
    "def get_ai_response(messages, tools=None):\n",
    "    response = client.chat.completions.create(\n",
    "        model=\"gpt-4o\",  # 응답 생성에 사용할 모델 지정\n",
    "        messages=messages,  # 대화 기록을 입력으로 전달\n",
    "        tools=tools,  # 사용 가능한 도구 목록 전달\n",
    "    )\n",
    "    return response  # 생성된 응답 내용 반환\n",
    "\n",
    "\n",
    "\n",
    "messages = [\n",
    "    {\"role\": \"system\", \"content\": \"너는 사용자를 도와주는 상담사야.\"},  # 초기 시스템 메시지\n",
    "]\n",
    "\n",
    "while True:\n",
    "    user_input = input(\"사용자\\t: \")  # 사용자 입력 받기\n",
    "\n",
    "    if user_input == \"exit\":  # 사용자가 대화를 종료하려는지 확인\n",
    "        break\n",
    "    \n",
    "    messages.append({\"role\": \"user\", \"content\": user_input})  # 사용자 메시지 대화 기록에 추가\n",
    "    \n",
    "    ai_response = get_ai_response(messages, tools=tools)\n",
    "    ai_message = ai_response.choices[0].message\n",
    "    print(ai_message)  # ③ gpt에서 반환되는 값을 파악하기 위해 임시로 추가\n",
    "\n",
    "    tool_calls = ai_message.tool_calls  # AI 응답에 포함된 tool_calls를 가져옵니다.\n",
    "    if tool_calls:  # tool_calls가 있는 경우\n",
    "        for tool_call in tool_calls:\n",
    "            tool_name = tool_call.function.name # 실행해야한다고 판단한 함수명 받기\n",
    "            tool_call_id = tool_call.id         # tool_call 아이디 받기    \n",
    "            arguments = json.loads(tool_call.function.arguments) # (1) 문자열을 딕셔너리로 변환    \n",
    "            \n",
    "            if tool_name == \"get_current_time\":  # ⑤ 만약 tool_name이 \"get_current_time\"이라면\n",
    "                messages.append({\n",
    "                    \"role\": \"function\",  # role을 \"function\"으로 설정\n",
    "                    \"tool_call_id\": tool_call_id,\n",
    "                    \"name\": tool_name,\n",
    "                    \"content\": get_current_time(timezone=arguments['timezone']),  # 타임존 추가\n",
    "                })\n",
    "        messages.append({\"role\": \"system\", \"content\": \"이제 주어진 결과를 바탕으로 답변할 차례다.\"})  # 함수 실행 완료 메시지 추가\n",
    "        ai_response = get_ai_response(messages, tools=tools) # 다시 GPT 응답 받기\n",
    "        ai_message = ai_response.choices[0].message\n",
    "\n",
    "    messages.append(ai_message)  # AI 응답을 대화 기록에 추가하기\n",
    "\n",
    "    print(\"AI\\t: \" + ai_message.content)  # AI 응답 출력\n"
   ]
  },
  {
   "cell_type": "code",
   "execution_count": null,
   "id": "c6b04659",
   "metadata": {},
   "outputs": [],
   "source": []
  }
 ],
 "metadata": {
  "kernelspec": {
   "display_name": "Python 3",
   "language": "python",
   "name": "python3"
  },
  "language_info": {
   "codemirror_mode": {
    "name": "ipython",
    "version": 3
   },
   "file_extension": ".py",
   "mimetype": "text/x-python",
   "name": "python",
   "nbconvert_exporter": "python",
   "pygments_lexer": "ipython3",
   "version": "3.13.2"
  }
 },
 "nbformat": 4,
 "nbformat_minor": 5
}
