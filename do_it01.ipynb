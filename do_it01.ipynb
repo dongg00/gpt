{
 "cells": [
  {
   "cell_type": "code",
   "execution_count": 1,
   "id": "2a0e1d5a",
   "metadata": {},
   "outputs": [],
   "source": [
    "import base64\n",
    "from openai import OpenAI\n",
    "from dotenv import load_dotenv\n",
    "import os\n"
   ]
  },
  {
   "cell_type": "code",
   "execution_count": 2,
   "id": "a7730ee4",
   "metadata": {},
   "outputs": [],
   "source": [
    "load_dotenv()\n",
    "api_key=os.getenv(\"OPENAI_API_KEY\")\n",
    "client=OpenAI(api_key=api_key)"
   ]
  },
  {
   "cell_type": "code",
   "execution_count": 3,
   "id": "1f7020b7",
   "metadata": {},
   "outputs": [],
   "source": [
    "def encode_image(image_path):\n",
    "    with open(image_path, \"rb\") as image_file: #rb(바이너리모드): 0과1의 이진 데이터 그대로 읽기/ 이미지는 바이트로 구성되어있기때문\n",
    "        return base64.b64encode(image_file.read()).decode(\"utf-8\") #이진 데이터를 base64형식(텍스트 형태)으로 인코딩 -> 인코딩된 데이터를 바이트에서 문자열로 변환"
   ]
  },
  {
   "cell_type": "code",
   "execution_count": 4,
   "id": "36dc92a7",
   "metadata": {},
   "outputs": [],
   "source": [
    "oecd_rnd_2021_base64=encode_image(\"oecd_rnd_2021_large.png\")\n",
    "oecd_rnd_2022_base64=encode_image(\"oecd_rnd_2022.png\")"
   ]
  },
  {
   "cell_type": "code",
   "execution_count": 5,
   "id": "8b84308d",
   "metadata": {},
   "outputs": [
    {
     "name": "stdout",
     "output_type": "stream",
     "text": [
      "이 두 그래프는 각 국가의 연구개발비와 GDP 대비 연구개발비 비중을 보여주고 있습니다. \n",
      "\n",
      "### 한국의 변화를 중심으로 설명:\n",
      "\n",
      "1. **연구개발비**:\n",
      "   - **2021년 데이터**: 약 89,282백만 달러\n",
      "   - **2022년 데이터**: 약 87,225백만 달러\n",
      "   - 한국의 연구개발비는 전년 대비 약간 감소했습니다.\n",
      "\n",
      "2. **GDP 대비 연구개발비 비중**:\n",
      "   - **2021년 데이터**: 4.93%\n",
      "   - **2022년 데이터**: 4.93% 유지\n",
      "   - 비중은 변동이 없었습니다.\n",
      "\n",
      "### 주요 변화 및 비교:\n",
      "\n",
      "- **미국과 중국**:\n",
      "  - 미국의 연구개발비는 증가했습니다 (720,880백만 달러에서 806,013백만 달러로).\n",
      "  - 중국 역시 소폭 증가했습니다 (353,484백만 달러에서 433,500백만 달러로).\n",
      "  \n",
      "- **일본과 독일**:\n",
      "  - 일본의 연구개발비는 거의 변화가 없었습니다 (약 165,043백만 달러에서 164,973백만 달러로 약간 감소).\n",
      "  - 독일은 증가했습니다 (121,739백만 달러에서 133,867백만 달러로).\n",
      "\n",
      "### 한국의 위치:\n",
      "\n",
      "- 한국은 두 해 모두 연구개발비 순위에서 5위에 위치하고 있습니다.\n",
      "- GDP 대비 비중도 5위로 높은 수준을 유지했습니다.\n",
      "\n",
      "이 데이터는 국가별 연구개발 투자와 경제 규모의 관계를 파악하는 데 도움을 주며, 특히 한국의 경우 연구개발에 대한 꾸준한 투자 비중을 확인할 수 있습니다.\n"
     ]
    }
   ],
   "source": [
    "messages=[\n",
    "    {\n",
    "        \"role\":\"user\",\n",
    "        \"content\":[\n",
    "            {\"type\":\"text\",\n",
    "             \"text\":\"첫 번째는 2021년 데이터고, 두 번째는 2022년 데이터입니다.이 데이터에 대해 설명해주세요. 어떠한 변화가 있었나요? 한국 중심으로 설명해주세요.\"\n",
    "            },\n",
    "            {\n",
    "                \"type\":\"image_url\",\n",
    "                \"image_url\":{\n",
    "                    \"url\":f\"data:image/jpeg;base64,{oecd_rnd_2021_base64}\",\n",
    "              },\n",
    "            },\n",
    "            {\n",
    "                \"type\":\"image_url\",\n",
    "                \"image_url\":{\n",
    "                    \"url\":f\"data:image/jpeg;base64,{oecd_rnd_2022_base64}\",\n",
    "              },\n",
    "            }\n",
    "        ],\n",
    "    }\n",
    "]\n",
    "response=client.chat.completions.create(\n",
    "    model=\"gpt-4o\",\n",
    "    messages=messages\n",
    ")\n",
    "print(response.choices[0].message.content)"
   ]
  },
  {
   "cell_type": "markdown",
   "id": "c80878ee",
   "metadata": {},
   "source": [
    "**2021년 연구개발, GDP 잘 못예측함. -> 2021 해상도 문제?**"
   ]
  },
  {
   "cell_type": "code",
   "execution_count": 6,
   "id": "370bc04b",
   "metadata": {},
   "outputs": [],
   "source": [
    "oecd_rnd_2021_base64=encode_image(\"oecd_rnd_2021_medium.png\") #전보다 해상도 낮은 파일\n",
    "oecd_rnd_2022_base64=encode_image(\"oecd_rnd_2022.png\")"
   ]
  },
  {
   "cell_type": "code",
   "execution_count": 7,
   "id": "dda80015",
   "metadata": {},
   "outputs": [
    {
     "name": "stdout",
     "output_type": "stream",
     "text": [
      "주어진 두 이미지의 데이터를 비교하여 한국에 대한 변화를 설명하겠습니다. \n",
      "\n",
      "### 한국의 연구개발비\n",
      "- **2021년**: 121,739백만 달러\n",
      "- **2022년**: 133,867백만 달러\n",
      "  - 연구개발비가 증가했습니다.\n",
      "\n",
      "### GDP 대비 연구개발비 비중\n",
      "- **2021년**: 4.93%\n",
      "- **2022년**: 4.93%\n",
      "  - GDP 대비 연구개발비 비중은 4.93%로 변동이 없었습니다.\n",
      "\n",
      "### 주요 변화 요약\n",
      "- 한국의 연구개발비 자체는 증가했으며, 이는 경제 성장이나 연구 개발에 대한 투자가 늘었음을 의미할 수 있습니다.\n",
      "- GDP 대비 비중은 동일하게 유지되었습니다. 이는 GDP도 비슷한 비율로 증가했다는 것을 시사합니다.\n",
      "\n",
      "전체적으로, 한국은 2022년에 연구개발비 총액이 상승했지만, GDP 대비 비중은 유지되었습니다. 이는 연구개발에 대한 강한 투자 의지를 보여주는 것으로 해석될 수 있습니다.\n"
     ]
    }
   ],
   "source": [
    "messages=[\n",
    "    {\n",
    "        \"role\":\"user\",\n",
    "        \"content\":[\n",
    "            {\"type\":\"text\",\n",
    "             \"text\":\"첫 번째는 2021년 데이터고, 두 번째는 2022년 데이터입니다.이 데이터에 대해 설명해주세요. 어떠한 변화가 있었나요? 한국 중심으로 설명해주세요.\"\n",
    "            },\n",
    "            {\n",
    "                \"type\":\"image_url\",\n",
    "                \"image_url\":{\n",
    "                    \"url\":f\"data:image/jpeg;base64,{oecd_rnd_2021_base64}\",\n",
    "              },\n",
    "            },\n",
    "            {\n",
    "                \"type\":\"image_url\",\n",
    "                \"image_url\":{\n",
    "                    \"url\":f\"data:image/jpeg;base64,{oecd_rnd_2022_base64}\",\n",
    "              },\n",
    "            }\n",
    "        ],\n",
    "    }\n",
    "]\n",
    "response=client.chat.completions.create(\n",
    "    model=\"gpt-4o\",\n",
    "    messages=messages\n",
    ")\n",
    "print(response.choices[0].message.content)"
   ]
  },
  {
   "cell_type": "markdown",
   "id": "7d8d8182",
   "metadata": {},
   "source": [
    "일반적인 이미지 분석은 적절하지만, **그래프를 해석하는 등 고차원적인 목적에는 적합하지 않을 수 있다**"
   ]
  },
  {
   "cell_type": "code",
   "execution_count": null,
   "id": "71e9caa3",
   "metadata": {},
   "outputs": [],
   "source": []
  }
 ],
 "metadata": {
  "kernelspec": {
   "display_name": "Python 3",
   "language": "python",
   "name": "python3"
  },
  "language_info": {
   "codemirror_mode": {
    "name": "ipython",
    "version": 3
   },
   "file_extension": ".py",
   "mimetype": "text/x-python",
   "name": "python",
   "nbconvert_exporter": "python",
   "pygments_lexer": "ipython3",
   "version": "3.13.3"
  }
 },
 "nbformat": 4,
 "nbformat_minor": 5
}
